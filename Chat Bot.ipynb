{
 "cells": [
  {
   "cell_type": "code",
   "execution_count": 1,
   "id": "4b11fb8b",
   "metadata": {},
   "outputs": [],
   "source": [
    "import json\n",
    "import numpy as np\n",
    "from tensorflow import keras\n",
    "from sklearn.preprocessing import LabelEncoder"
   ]
  },
  {
   "cell_type": "code",
   "execution_count": 2,
   "id": "8bb3691e",
   "metadata": {},
   "outputs": [],
   "source": [
    "import colorama\n",
    "colorama.init()\n",
    "from colorama import Fore, Style, Back"
   ]
  },
  {
   "cell_type": "code",
   "execution_count": 3,
   "id": "5e7bc982",
   "metadata": {},
   "outputs": [],
   "source": [
    "import random\n",
    "import pickle"
   ]
  },
  {
   "cell_type": "code",
   "execution_count": 4,
   "id": "c7db7b9b",
   "metadata": {},
   "outputs": [],
   "source": [
    "with open(\"Intent1.json\") as file:\n",
    "    data = json.load(file)"
   ]
  },
  {
   "cell_type": "code",
   "execution_count": 6,
   "id": "c5806640",
   "metadata": {
    "scrolled": true
   },
   "outputs": [
    {
     "name": "stdout",
     "output_type": "stream",
     "text": [
      "Start messaging with the bot (type quit to stop)!\n",
      "User: Hi\n",
      "ChatBot: Hello human, please tell me your GeniSys user\n",
      "User: How are you\n",
      "ChatBot: Hi, I am good thank you, how are you? Please tell me your GeniSys user\n",
      "User: What is your name?\n",
      "ChatBot: You may call me Geni\n",
      "User: okay\n",
      "ChatBot: My pleasure\n",
      "User: tell me a joke\n",
      "ChatBot: Man: Doctor, I've just swallowed a pillow. Doctor: How do you feel? Man: A little down in the mouth.\n",
      "User: have a nice day\n",
      "ChatBot: I was trained well\n",
      "User: bye\n",
      "ChatBot: See you later\n",
      "User: gossip with me\n",
      "ChatBot: Mike said he launched his browser and entered his name into the little slot when I asked him to.\n",
      "User: bye\n",
      "ChatBot: Have a nice day\n",
      "User: quit\n"
     ]
    }
   ],
   "source": [
    "def chat():\n",
    "    model = keras.models.load_model('chat_model2')\n",
    "    \n",
    "    with open('tokenizer.pickle','rb') as handle:\n",
    "        tokenizer = pickle.load(handle)\n",
    "        \n",
    "    with open('label_encoder.pickle','rb') as enc:\n",
    "        lbl_encoder = pickle.load(enc)\n",
    "        \n",
    "    max_len =20\n",
    "    \n",
    "    while True:\n",
    "        print(Fore.LIGHTBLUE_EX + \"User: \" + Style.RESET_ALL, end=\"\")\n",
    "        inp = input()\n",
    "        if inp.lower() == \"quit\":\n",
    "            break\n",
    "            \n",
    "        result = model.predict(keras.preprocessing.sequence.pad_sequences(tokenizer.texts_to_sequences([inp]),\n",
    "                                                                         truncating='post', maxlen=max_len))\n",
    "        tag = lbl_encoder.inverse_transform([np.argmax(result)])\n",
    "        \n",
    "        for i in data['intents']:\n",
    "                if i['intent'] == tag:\n",
    "                    print(Fore.GREEN + \"ChatBot:\" + Style.RESET_ALL , np.random.choice(i['responses']))\n",
    "                \n",
    "                \n",
    "print(Fore.YELLOW + \"Start messaging with the bot (type quit to stop)!\" + Style.RESET_ALL)\n",
    "chat()"
   ]
  },
  {
   "cell_type": "code",
   "execution_count": null,
   "id": "a7761cb1",
   "metadata": {},
   "outputs": [],
   "source": []
  }
 ],
 "metadata": {
  "kernelspec": {
   "display_name": "Python 3 (ipykernel)",
   "language": "python",
   "name": "python3"
  },
  "language_info": {
   "codemirror_mode": {
    "name": "ipython",
    "version": 3
   },
   "file_extension": ".py",
   "mimetype": "text/x-python",
   "name": "python",
   "nbconvert_exporter": "python",
   "pygments_lexer": "ipython3",
   "version": "3.9.7"
  }
 },
 "nbformat": 4,
 "nbformat_minor": 5
}
